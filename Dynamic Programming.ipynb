{
 "cells": [
  {
   "cell_type": "markdown",
   "metadata": {},
   "source": [
    "# Dynamic Programming"
   ]
  },
  {
   "cell_type": "markdown",
   "metadata": {},
   "source": [
    "Dynamic programming (DP) is used to solved `optimization problems` by breaking down into a sequence of simple subproblems.\n",
    "\n",
    "Solves these subproblems just once, stores (cache) solution to subproblems, and constructs an optimal solution to the problem, based on solutions to subproblems saves computation time.\n",
    "\n",
    "The method for storing solutions to subproblems is called `memoization`. When the same subproblems occurs, its solution can be used directly."
   ]
  },
  {
   "cell_type": "markdown",
   "metadata": {},
   "source": [
    "Dynamic programming :\n",
    "\n",
    "- Dynamic Optimization\n",
    "- Recursion + Memoization"
   ]
  },
  {
   "cell_type": "markdown",
   "metadata": {},
   "source": [
    "## What is an optimization problem?"
   ]
  },
  {
   "cell_type": "markdown",
   "metadata": {},
   "source": [
    "- `Enumaration problem` : You want to climb `n` steps. At any step, you can either climb 1, 2 steps. How many different ways can you climb the `n` stairs?\n",
    "\n",
    "\n",
    "\n",
    "- `Minimazation or Maximizatiion problem` : We have an list `A[1...n]` of stock prices at diffrent days. We want to buy and sell at 2 diffrent days. Find the maximum amount of money wa can make?\n",
    "\n",
    "\n",
    "\n",
    "- `Yes / No question` : Can you form 10 dollars with `x` 5 pennies, `y` 10 pennies, and `z` quarters?"
   ]
  },
  {
   "cell_type": "markdown",
   "metadata": {},
   "source": [
    "## What is overlapping subproblems"
   ]
  },
  {
   "cell_type": "markdown",
   "metadata": {},
   "source": [
    "`Overlapping subproblems` means that when you decompose you problem in subproblems, you sometimes get the same subproblem multiple times.\n",
    "\n",
    "A problem has `overlapping subproblems` if finding its solution involves solving the same `subproblem` multiple times\n",
    "\n",
    "With fibonacci if we want to compute `fibonacci(5)`, we need to compute `fibonacci(4)` and `fibonacci(3)`. And to compute `fibonacci(4)` we need to compute `fibonacci(3)` and `fibonacci(2)` etc ...\n",
    "\n",
    "Dynamic programming relies on overlapping subproblems."
   ]
  },
  {
   "cell_type": "markdown",
   "metadata": {},
   "source": [
    "## What is memoization?"
   ]
  },
  {
   "cell_type": "markdown",
   "metadata": {},
   "source": [
    "`Memoization` is a technique that is closely associated with dynamic programming. It is used to `cache` the result of expensive function calls and returning the cache result when the same inputs occur again."
   ]
  },
  {
   "cell_type": "markdown",
   "metadata": {},
   "source": [
    "## Solving Techinques"
   ]
  },
  {
   "cell_type": "markdown",
   "metadata": {},
   "source": [
    "### Bottom Up  - Iteration"
   ]
  },
  {
   "cell_type": "markdown",
   "metadata": {},
   "source": [
    "A `bottom up` solution start from the beginning while a recursive solution often start from the end and works backwards to the base case.\n",
    "\n",
    "Start with the smallest subproblems and build up each solution until the solution to the larger subproblem.\n",
    "\n",
    "Going `bottom up` is a way to avoid recursion, saving memory cost that recursion incurs when it builds up the `call stack` and also avoid `stack overflow error`. (call stack gets too big and runs out of space)"
   ]
  },
  {
   "cell_type": "markdown",
   "metadata": {},
   "source": [
    "### Top Down - Recursion"
   ]
  },
  {
   "cell_type": "markdown",
   "metadata": {},
   "source": [
    "The `top down` approach start from the top (the final result) and recursively decomposed the solution into smaller subproblem until the base case is reach.\n",
    "\n",
    "This is often the easier solution to understand because it is an optimization of the basic recursive solution.\n",
    "\n",
    "Sove the problem recursively, `memoize` (cache) the results of each sub problem. (optimization)"
   ]
  },
  {
   "cell_type": "markdown",
   "metadata": {},
   "source": [
    "## Dynamic Programming vs Greedy Method"
   ]
  },
  {
   "cell_type": "markdown",
   "metadata": {},
   "source": [
    "- `Dynamic Programming` consider every option and solve all subproblems and then select the one that would lead to an optimal solution.\n",
    "\n",
    "\n",
    "- `Greedy Method` is an approach for solving certain types of optimizations problems. The greedy algorithm chooses the optimum result at each stage- `Greedy Method` : is an approach for solving certain types of optimizations problems. The greedy algorithm chooses the optimum result at each stage."
   ]
  },
  {
   "cell_type": "markdown",
   "metadata": {},
   "source": [
    "## Method to solve any dynamic programming problem"
   ]
  },
  {
   "cell_type": "markdown",
   "metadata": {},
   "source": [
    "\n",
    "  1 - Recognize a DP problem.\n",
    "\n",
    "  2 - Identify problem variables.\n",
    "\n",
    "  3 - Clearly express the recurrence relation.\n",
    "\n",
    "  4 - Identify the base cases.\n",
    "\n",
    "  5 - Decide if you want to implement it iteratively or recursively.\n",
    "\n",
    "  6 - Add memoization.\n",
    "\n",
    "  7 - Determine time complexity.\n"
   ]
  }
 ],
 "metadata": {
  "kernelspec": {
   "display_name": "Python 3",
   "language": "python",
   "name": "python3"
  },
  "language_info": {
   "codemirror_mode": {
    "name": "ipython",
    "version": 3
   },
   "file_extension": ".py",
   "mimetype": "text/x-python",
   "name": "python",
   "nbconvert_exporter": "python",
   "pygments_lexer": "ipython3",
   "version": "3.6.0"
  }
 },
 "nbformat": 4,
 "nbformat_minor": 2
}
