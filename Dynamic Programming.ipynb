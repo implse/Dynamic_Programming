{
 "cells": [
  {
   "cell_type": "markdown",
   "metadata": {},
   "source": [
    "# Dynamic Programming"
   ]
  },
  {
   "cell_type": "markdown",
   "metadata": {},
   "source": [
    "Dynamic programming (DP) is used to solved `optimization problems` by breaking down into a sequence of simple subproblems.\n",
    "\n",
    "Solves these subproblems just once, stores (cache) solution to subproblems, and constructs an optimal solution to the problem, based on solutions to subproblems saves computation time.\n",
    "\n",
    "The method for storing solutions to subproblems is called `memoization`. When the same subproblems occurs, its solution can be used directly."
   ]
  },
  {
   "cell_type": "markdown",
   "metadata": {},
   "source": [
    "Dynamic programming :\n",
    "    - Dynamic Optimization\n",
    "    - Recursion + Memoization"
   ]
  },
  {
   "cell_type": "markdown",
   "metadata": {},
   "source": [
    "## What is an optimization problem?"
   ]
  },
  {
   "cell_type": "markdown",
   "metadata": {},
   "source": [
    "- `Enumaration problem` : You want to clim n steps. At any step, you can either climb 1, 2 steps. How many different ways can you climb the n stairs?\n",
    "\n",
    "\n",
    "\n",
    "- `Minimazation or Maximizatiion problem`: We have an list A[1...n] of stock prices at diffrent days. We want to buy and sell at 2 diffrent days. Find the maximum amount of money wa can make?\n",
    "\n",
    "\n",
    "\n",
    "- `Yes / No question` : Can you form 10 dollars with x 5 pennies, y 10 pennies, and z quarters?"
   ]
  },
  {
   "cell_type": "markdown",
   "metadata": {},
   "source": [
    "## What is memoization?"
   ]
  },
  {
   "cell_type": "markdown",
   "metadata": {},
   "source": [
    "Memoization is a technique that is closely associated with dynamic programming. It is used to cache the result of expensive function calls and returning the cache result when the same inputs occur again."
   ]
  },
  {
   "cell_type": "markdown",
   "metadata": {},
   "source": [
    "## Solving Techinques"
   ]
  },
  {
   "cell_type": "markdown",
   "metadata": {},
   "source": [
    "### Bottom Up  - Iteration"
   ]
  },
  {
   "cell_type": "markdown",
   "metadata": {},
   "source": [
    "Going bottom up is a way to avoid recursion, saving memory cost that recursion incurs when it builds up the `call stack` and avoid 'stack overflow'.\n",
    "\n",
    "A Bottom up solution start from the beginning while a recursive solution often start from the end and works backwards to the base case.\n",
    "\n",
    "A bottom up or Tabulation method uses a matrix to store subproblems.\n",
    "\n",
    "Start with the smallest subproblems and build up each solution until the solution to the larger subproblem."
   ]
  },
  {
   "cell_type": "markdown",
   "metadata": {},
   "source": [
    "### Top Down - Recusion"
   ]
  },
  {
   "cell_type": "markdown",
   "metadata": {},
   "source": [
    "The top down approach start from the top (the final result) and recursively decomposed the solution into smaller subproblem until the base case is reach.\n",
    "\n",
    "This is often the easier solution to understand because it is an optimization of the basic recursive solution.\n",
    "\n",
    "Sove the problem recursively, memoïze (cache) the results of each sub problem (optimization)"
   ]
  },
  {
   "cell_type": "code",
   "execution_count": null,
   "metadata": {
    "collapsed": true
   },
   "outputs": [],
   "source": []
  }
 ],
 "metadata": {
  "kernelspec": {
   "display_name": "Python 3",
   "language": "python",
   "name": "python3"
  },
  "language_info": {
   "codemirror_mode": {
    "name": "ipython",
    "version": 3
   },
   "file_extension": ".py",
   "mimetype": "text/x-python",
   "name": "python",
   "nbconvert_exporter": "python",
   "pygments_lexer": "ipython3",
   "version": "3.6.0"
  }
 },
 "nbformat": 4,
 "nbformat_minor": 2
}
