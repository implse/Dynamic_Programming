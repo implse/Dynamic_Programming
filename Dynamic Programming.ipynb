{
 "cells": [
  {
   "cell_type": "markdown",
   "metadata": {},
   "source": [
    "# Dynamic Programming"
   ]
  },
  {
   "cell_type": "markdown",
   "metadata": {},
   "source": [
    "`Dynamic programming` is used to solved `optimization problems` by breaking down into a sequence of simple subproblems.\n",
    "\n",
    "Solves these `subproblems` just once, stores (cache) solution to `subproblems`, and constructs an optimal solution to the problem, based on solutions to subproblems.\n",
    "\n",
    "The method for storing solutions to `subproblems` is called `memoization`. When the same `subproblems` occurs, its solution can be used directly."
   ]
  },
  {
   "cell_type": "markdown",
   "metadata": {},
   "source": [
    "Dynamic programming :\n",
    "\n",
    "- Dynamic Optimization\n",
    "- Recursion + Memoization"
   ]
  },
  {
   "cell_type": "markdown",
   "metadata": {},
   "source": [
    "## How Io Identify Dynamic Programming Problems:\n",
    "\n",
    "    1 - Problem can be broken down into smaller subproblems\n",
    "    2 - Problem demands for optimal solution\n",
    "    3 - Optimal solution of subproblems can be used to form the optimal solution of the original problem"
   ]
  },
  {
   "cell_type": "markdown",
   "metadata": {},
   "source": [
    "## What Is An Optimization Problem?"
   ]
  },
  {
   "cell_type": "markdown",
   "metadata": {},
   "source": [
    "- `Enumaration problem` : You want to climb `n` steps. At any step, you can either climb 1, 2 steps. How many different ways can you climb the `n` stairs?\n",
    "\n",
    "\n",
    "\n",
    "- `Minimazation or Maximizatiion problem` : We have an list `A[1...n]` of stock prices at diffrent days. We want to buy and sell at 2 diffrent days. Find the maximum amount of money wa can make?\n",
    "\n",
    "\n",
    "\n",
    "- `Yes / No question` : Can you form 10 dollars with `x` 5 pennies, `y` 10 pennies, and `z` quarters?"
   ]
  },
  {
   "cell_type": "markdown",
   "metadata": {},
   "source": [
    "## What Is Overlapping Subproblems"
   ]
  },
  {
   "cell_type": "markdown",
   "metadata": {},
   "source": [
    "`Overlapping subproblems` means that when you decompose you problem in subproblems, you sometimes get the same subproblem multiple times.\n",
    "\n",
    "A problem has `overlapping subproblems` if finding its solution involves solving the same `subproblem` multiple times\n",
    "\n",
    "With fibonacci if we want to compute `fibonacci(5)`, we need to compute `fibonacci(4)` and `fibonacci(3)`. And to compute `fibonacci(4)` we need to compute `fibonacci(3)` and `fibonacci(2)` etc ...\n",
    "\n",
    "Dynamic programming relies on overlapping subproblems."
   ]
  },
  {
   "cell_type": "markdown",
   "metadata": {},
   "source": [
    "## What Is Memoization?"
   ]
  },
  {
   "cell_type": "markdown",
   "metadata": {},
   "source": [
    "`Memoization` is a technique that is closely associated with dynamic programming. It is used to `cache` the result of expensive function calls and returning the cache result when the same inputs occur again."
   ]
  },
  {
   "cell_type": "markdown",
   "metadata": {},
   "source": [
    "## Solving Techinques"
   ]
  },
  {
   "cell_type": "markdown",
   "metadata": {},
   "source": [
    "### Bottom Up  - Iteration"
   ]
  },
  {
   "cell_type": "markdown",
   "metadata": {},
   "source": [
    "A `bottom up` solution start from the beginning while a recursive solution often start from the end and works backwards to the base case.\n",
    "\n",
    "Start with the smallest subproblems and build up each solution until the solution to the larger `subproblem`.\n",
    "\n",
    "Going `bottom up` is a way to avoid recursion, saving memory cost that recursion incurs when it builds up the `call stack` and also avoid `stack overflow error`. (call stack gets too big and runs out of space)"
   ]
  },
  {
   "cell_type": "code",
   "execution_count": 14,
   "metadata": {},
   "outputs": [
    {
     "name": "stdout",
     "output_type": "stream",
     "text": [
      "55\n"
     ]
    }
   ],
   "source": [
    "def fibonacci_bottom_up(n):\n",
    "    if n < 2:\n",
    "        return n\n",
    "    cache = [0, 1]\n",
    "    for i in range(2, n + 1):\n",
    "        cache.append(cache[i - 1] + cache[i - 2])\n",
    "    return cache[n]\n",
    "\n",
    "\n",
    "print(fibonacci_bottom_up(10))"
   ]
  },
  {
   "cell_type": "markdown",
   "metadata": {},
   "source": [
    "### Top Down - Recursion + Memoization"
   ]
  },
  {
   "cell_type": "markdown",
   "metadata": {},
   "source": [
    "The `top down` approach start from the top (the final result) and recursively decomposed the solution into smaller subproblem until the `base case` is reach.\n",
    "\n",
    "This is often the easier solution to understand because it is an `optimization` of the `basic recursive solution`.\n",
    "\n",
    "Sove the problem recursively, `memoize` (cache) the results of each subproblems. (optimization)"
   ]
  },
  {
   "cell_type": "code",
   "execution_count": 8,
   "metadata": {},
   "outputs": [
    {
     "name": "stdout",
     "output_type": "stream",
     "text": [
      "55\n"
     ]
    }
   ],
   "source": [
    "def fibonacci_top_down(n, cache = {}):\n",
    "    if n <= 1:\n",
    "        return n\n",
    "    elif n not in cache:\n",
    "        cache[n] =  fibonacci_top_down(n - 1) + fibonacci_top_down(n - 2)\n",
    "    return cache[n]\n",
    "\n",
    "\n",
    "print(fibonacci_top_down(10, {}))   "
   ]
  },
  {
   "cell_type": "markdown",
   "metadata": {},
   "source": [
    "## Dynamic Programming vs Recursion vs Divide & Conquer vs Greedy Method"
   ]
  },
  {
   "cell_type": "markdown",
   "metadata": {},
   "source": [
    "- `Dynamic Programming` consider every option and solve all subproblems and then select the one that would lead to an optimal solution. (Optimisation over `recursion`)\n",
    "\n",
    "\n",
    "- `Recursion` is a method of solving a problem where the solution depends on solutions to smaller instances of the same problem.\n",
    "\n",
    "\n",
    "- `Divide and Conquer` recursively breaks down a problem into two or more subproblems of the same or related type, until these become simple enough to be solved directly. (Non overlapping subproblems)\n",
    "\n",
    "- `Greedy Method` is an approach for solving certain types of optimizations problems. The `greedy algorithm` chooses the optimum result at each stage.\n",
    "\n"
   ]
  },
  {
   "cell_type": "markdown",
   "metadata": {},
   "source": [
    "## Method To Solve Dynamic Programming Problems"
   ]
  },
  {
   "cell_type": "markdown",
   "metadata": {},
   "source": [
    "    1 - Recognize a DP problem.\n",
    "    2 - Identify problem variables.\n",
    "    3 - Clearly express the recurrence relation.\n",
    "    4 - Identify the base cases.\n",
    "    5 - Decide if you want to implement it iteratively or recursively.\n",
    "    6 - Add memoization.\n",
    "    7 - Determine time complexity."
   ]
  }
 ],
 "metadata": {
  "kernelspec": {
   "display_name": "Python 3",
   "language": "python",
   "name": "python3"
  },
  "language_info": {
   "codemirror_mode": {
    "name": "ipython",
    "version": 3
   },
   "file_extension": ".py",
   "mimetype": "text/x-python",
   "name": "python",
   "nbconvert_exporter": "python",
   "pygments_lexer": "ipython3",
   "version": "3.6.12"
  }
 },
 "nbformat": 4,
 "nbformat_minor": 2
}
